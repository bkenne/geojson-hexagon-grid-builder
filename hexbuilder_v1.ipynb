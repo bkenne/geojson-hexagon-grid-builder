{
 "cells": [
  {
   "cell_type": "code",
   "execution_count": 1,
   "metadata": {},
   "outputs": [],
   "source": [
    "import shapely.geometry as  shp\n",
    "from shapely.geometry import Polygon, shape, mapping, GeometryCollection\n",
    "import geojson\n",
    "import math\n",
    "import geopandas as gdp\n",
    "import descartes\n"
   ]
  },
  {
   "cell_type": "code",
   "execution_count": 2,
   "metadata": {},
   "outputs": [],
   "source": [
    "# Sample parcel\n",
    "parcel=Polygon([[-96.8209655,32.9657427],[-96.8205803,32.9657453],[-96.8203764,32.9655743],[-96.8202387,32.9655751],[-96.8201779,32.9656267],[-96.8190891,32.965643],[-96.8190795,32.9665821],[-96.8190844,32.966667],[-96.8190967,32.9667513],[-96.8191163,32.9668347],[-96.8191431,32.9669166],[-96.8191769,32.9669967],[-96.8198674,32.9670017],[-96.8201743,32.9672649],[-96.8211773,32.9672722],[-96.8211686,32.9671324],[-96.8211512,32.9669933],[-96.8211252,32.9668551],[-96.8210907,32.9667182],[-96.8210864,32.9667023],[-96.8210474,32.9665445],[-96.8210159,32.9663855],[-96.8209919,32.9662255],[-96.8209755,32.9660649],[-96.8209667,32.9659039],[-96.8209655,32.9657427]])"
   ]
  },
  {
   "cell_type": "code",
   "execution_count": 3,
   "metadata": {},
   "outputs": [],
   "source": [
    "# Parcel GeoJson\n",
    "parcelGeoJson = { \"geometry\": { \"coordinates\": [ [ [ -96.8209655, 32.9657427 ], [ -96.8205803, 32.9657453 ], [ -96.8203764, 32.9655743 ], [ -96.8202387, 32.9655751 ], [ -96.8201779, 32.9656267 ], [ -96.8190891, 32.965643 ], [ -96.8190795, 32.9665821 ], [ -96.8190844, 32.966667 ], [ -96.8190967, 32.9667513 ], [ -96.8191163, 32.9668347 ], [ -96.8191431, 32.9669166 ], [ -96.8191769, 32.9669967 ], [ -96.8198674, 32.9670017 ], [ -96.8201743, 32.9672649 ], [ -96.8211773, 32.9672722 ], [ -96.8211686, 32.9671324 ], [ -96.8211512, 32.9669933 ], [ -96.8211252, 32.9668551 ], [ -96.8210907, 32.9667182 ], [ -96.8210864, 32.9667023 ], [ -96.8210474, 32.9665445 ], [ -96.8210159, 32.9663855 ], [ -96.8209919, 32.9662255 ], [ -96.8209755, 32.9660649 ], [ -96.8209667, 32.9659039 ], [ -96.8209655, 32.9657427 ] ] ], \"type\": \"Polygon\" }, \"properties\": { \"address\": \"15950 DALLAS PKWY STE 600\", \"address2\": \"blank\", \"address_source\": \"county;accuzip\", \"agval\": -9999, \"block\": \"blank\", \"book\": \"blank\", \"call-date\": \"03/04/2020 - 12:39:44\", \"careof\": \"blank\", \"census_block\": \"blank\", \"census_blockgroup\": \"blank\", \"census_tract\": \"blank\", \"city\": \"dallas\", \"county\": \"dallas\", \"geoid\": \"48113\", \"gisacre\": -9999, \"improvval\": 1340.0, \"landval\": 0.0, \"lbcs_activity\": -9999, \"lbcs_function\": 2000.0, \"legaldesc\": \"blank\", \"ll_stable_id\": \"blank\", \"ll_updated_at\": \"2019-07-19 10:40:07.520000-04:00\", \"ll_uuid\": \"3edd18fe-31f9-4513-841c-bac8ea034a7d\", \"location_name\": \"blank\", \"lot\": \"blank\", \"mail_addno\": \"blank\", \"mail_addpref\": \"blank\", \"mail_address2\": \"blank\", \"mail_addstr\": \"blank\", \"mail_addstsuf\": \"blank\", \"mail_addsttyp\": \"blank\", \"mail_city\": \"DALLAS\", \"mail_state2\": \"TX\", \"mail_unit\": \"blank\", \"mail_urbanization\": \"blank\", \"mail_zip\": \"75266\", \"mailadd\": \"JEFF MANKOFF PRES PO BOX 660675 90691\", \"multistruct\": -9999, \"neighborhood\": \"N/A\", \"numstories\": -9999, \"numunits\": -9999, \"ogc_fid\": 65438, \"original_address\": \"15950 DALLAS PKWY; 600\", \"owner\": \"GRAND PASS MGMT\", \"owner2\": \"blank\", \"owner3\": \"blank\", \"owner4\": \"blank\", \"ownfrst\": \"blank\", \"ownlast\": \"blank\", \"owntype\": \"blank\", \"page\": \"blank\", \"parcelnumb\": \"99972800000074200\", \"parval\": 1340.0, \"parvaltype\": \"assessed\", \"path\": \"/us/tx/dallas/dallas/65438\", \"plat\": \"blank\", \"recrdareano\": -9999, \"recrdareatx\": \"blank\", \"reviseddate\": \"blank\", \"saddno\": \"15950\", \"saddpref\": \"blank\", \"saddstr\": \"DALLAS\", \"saddstsuf\": \"blank\", \"saddsttyp\": \"PKWY\", \"saledate\": \"blank\", \"saleprice\": -9999, \"scity\": \"DALLAS\", \"source\": \"openparcel-02\", \"sourceagent\": \"blank\", \"sourcedate\": \"blank\", \"sourceref\": \"blank\", \"sourceurl\": \"blank\", \"sqft\": -9999, \"state2\": \"tx\", \"struct\": -9999, \"structno\": -9999, \"structstyle\": \"blank\", \"subdivision\": \"blank\", \"subowntype\": \"blank\", \"subsurfown\": \"blank\", \"sunit\": \"blank\", \"szip\": \"75248-6685\", \"table_name\": \"tx_dallas\", \"taxamt\": -9999, \"urbanization\": \"blank\", \"usecode\": \"3\", \"usedesc\": \"BPP\", \"yearbuilt\": -9999, \"zoning\": \"31\", \"zoning_description\": \"COMMERCIAL BPP\" }, \"type\": \"Feature\" }"
   ]
  },
  {
   "cell_type": "code",
   "execution_count": 4,
   "metadata": {},
   "outputs": [
    {
     "name": "stdout",
     "output_type": "stream",
     "text": [
      "[-96.8211773, 32.9655743, -96.8190795, 32.9672722]\n",
      "[-96.82217671070545, 32.96457431687606, -96.8180795522462, 32.9682721735152]\n"
     ]
    }
   ],
   "source": [
    "# parcel bounds\n",
    "parcel_bounds = list(parcel.bounds)\n",
    "print(parcel_bounds)\n",
    "\n",
    "# buffered - parcel bounds\n",
    "parcel_bounds_buffer = list(parcel.buffer(0.001).bounds) #Approx 100m buffer\n",
    "print(parcel_bounds_buffer)"
   ]
  },
  {
   "cell_type": "code",
   "execution_count": 5,
   "metadata": {},
   "outputs": [],
   "source": [
    "import math\n",
    "import time\n",
    "import json\n",
    "\n",
    "class Hexbuild:\n",
    "    \"\"\"\n",
    "    Purpose to build hexgrid to cover the extend to an area\n",
    "    Inputs:\n",
    "        boundaries (as list = xmin, ymin, xmax, ymax) in decimal degrees\n",
    "        radius (the hexagon radius) numeric\n",
    "        units (\"kilometers\") string\n",
    "    \"\"\"\n",
    "    \n",
    "    def __init__(self, boundaries, radius, units):\n",
    "        \n",
    "        self.boundaries = boundaries\n",
    "        self.radius = radius\n",
    "        self.units = units\n",
    "        \n",
    "        self.isBoundaries = self._validateBoundaries()\n",
    "        self.isRadiusValue = self._validateRadius()\n",
    "        self.isUnitsValue = self._validateUnits()\n",
    "        \n",
    "        self.rEarth = 6371.01 # Earth's average radius in km\n",
    "        self.rEquator = 6378.137 # Earth's radius at equator in km\n",
    "        self.rPolar = 6356.752 # Earth's radius at poles in km\n",
    "        \n",
    "        self.epsilon = 0.000001 # threshold for floating-point equality\n",
    "        self.pi = 3.14159265358979323846264338327950288419716939937510\n",
    "        self.center = [] # Stores center point of hexegon\n",
    "        self._hexgridjson = {} # Stores Hexagon GeoJson\n",
    "        \n",
    "        self._hexgrid = self._buildHexGrid() # Executes build hexagon Json\n",
    "        \n",
    "        \n",
    "        \n",
    "    # Build Hexagon \n",
    "    def _buildHexGrid(self):\n",
    "        \n",
    "        # Validate inputs into buildHex function\n",
    "        if self.isBoundaries == True and self.isRadiusValue == True and self.isUnitsValue == True:\n",
    "            \n",
    "            # Determine Grid Size\n",
    "            x_min = self.boundaries[0]\n",
    "            y_min = self.boundaries[1]\n",
    "            x_max = self.boundaries[2]\n",
    "            y_max = self.boundaries[3]\n",
    "            \n",
    "            # Calculate radius at latitude\n",
    "            self.rEarth = math.sqrt(((6378.137**2 * math.cos(y_min))**2 + (6356.752**2 * math.sin(y_min))**2) /\n",
    "                          ((6378.137 * math.cos(y_min))**2 + (6356.752 * math.sin(y_min))**2))\n",
    "            \n",
    "            # Calculate circumference of earth at latitude\n",
    "            C = 2 * self.pi * self.rEarth\n",
    "            \n",
    "            # Calculate number of kilometers in degree of longitude\n",
    "            M = C / 360\n",
    "             \n",
    "            # Unit Conversion\n",
    "            if self.units == \"kilometers\":\n",
    "                self.calcradius = float(self.radius) * 2 / M\n",
    "            \n",
    "            # Calculate number of Hexagons required\n",
    "            x_width = abs(x_min) - abs(x_max) + (self.calcradius*2) \n",
    "            y_width = y_max - y_min  + (self.calcradius*2)\n",
    "            x_cell_count = int(round(x_width/self.calcradius, 0))\n",
    "            y_cell_count = int(round(y_width/self.calcradius*1.5, 0))\n",
    "                \n",
    "            \n",
    "            # Variable to hold feature collection\n",
    "            feature_Collection = []\n",
    "                        \n",
    "            # Generate hexagon\n",
    "            self.center.append(self.boundaries[0]) # Position of first Hexagon(X)\n",
    "            self.center.append(self.boundaries[3]) # Position of first Hexagon(Y)\n",
    "            \n",
    "            # Set required variables\n",
    "            direction = \"right\"\n",
    "            count = 1\n",
    "            x_count = 1\n",
    "            \n",
    "            # Loop to create Hexagons and store in GeoJson format\n",
    "            for y in range(y_cell_count):\n",
    "            \n",
    "                for x in range(x_cell_count):\n",
    "\n",
    "                    hexagon = {\n",
    "                        \"type\": \"Feature\",\n",
    "                        \"geometry\": {\n",
    "                            \"type\": \"Polygon\",\n",
    "                            \"coordinates\": self._drawHexagon()\n",
    "                        },\n",
    "                        \"properties\": {\n",
    "                            \"longitude\": self.center[0],\n",
    "                            \"latitude\": self.center[1],\n",
    "                            \"call-date\": str(time.strftime(\"%m/%d/%Y - %H:%M:%S\")),\n",
    "                            \"counter\": count\n",
    "                        }\n",
    "                    }\n",
    "                    feature_Collection.append(hexagon)\n",
    "                    \n",
    "                    # Increment counters\n",
    "                    count += 1\n",
    "                    x_count += 1\n",
    "                    \n",
    "                    # Move centroid\n",
    "                    if x_count <= x_cell_count:\n",
    "                        offsetDist = self.radius*math.sqrt(3)/2*4\n",
    "                        if direction == \"right\":\n",
    "                            self.center[0] = self._pointRadialDistance(self.center[0], self.center[1], 210, offsetDist)[0]\n",
    "                        elif direction == \"left\":\n",
    "                            self.center[0] = self._pointRadialDistance(self.center[0], self.center[1], 30, offsetDist)[0]\n",
    "                \n",
    "                # Reset inner loop counter\n",
    "                x_count = 1\n",
    "                \n",
    "                # Establish next starting row direction and center point\n",
    "                offsetShift = (self.radius*math.sqrt(3)/2)*2\n",
    "                if direction == \"right\":\n",
    "                    direction = \"left\"\n",
    "                    new_center = self._pointRadialDistance(self.center[0], self.center[1], 150, offsetShift)\n",
    "                \n",
    "                elif direction == \"left\":\n",
    "                    direction = \"right\"\n",
    "                    new_center = self._pointRadialDistance(self.center[0], self.center[1], 210, offsetShift)\n",
    "                \n",
    "                self.center[0] = new_center[0]\n",
    "                self.center[1] = new_center[1]\n",
    "                \n",
    "            # Collect features collection\n",
    "            feature_Collection_Frame = { \"type\": \"FeatureCollection\", \"features\": feature_Collection}\n",
    "            self._hexgridjson = feature_Collection_Frame\n",
    "            \n",
    "            return True\n",
    "            \n",
    "        else:\n",
    "            self.error = \"Build Hex inputs not correct\"\n",
    "            self._reportError()\n",
    "            \n",
    "            return False \n",
    "        \n",
    "    # Draw Hexagon \n",
    "    def _drawHexagon(self):\n",
    "       \n",
    "        # Need to generate H1 through H6 in counterclockwise direction terminating back at H1\n",
    "        center_pt = [self.center[0], self.center[1]]\n",
    "        #print(center_pt)\n",
    "        h1 = self._pointRadialDistance(self.center[0],self.center[1],60,self.radius)\n",
    "        h2 = self._pointRadialDistance(self.center[0],self.center[1],120,self.radius)\n",
    "        h3 = self._pointRadialDistance(self.center[0],self.center[1],180,self.radius)\n",
    "        h4 = self._pointRadialDistance(self.center[0],self.center[1],240,self.radius)\n",
    "        h5 = self._pointRadialDistance(self.center[0],self.center[1],300,self.radius)\n",
    "        h6 = self._pointRadialDistance(self.center[0],self.center[1],360,self.radius)\n",
    "        \n",
    "        return [[h1,h2,h3,h4,h5,h6,h1]] # Return hegagon geometry (closed polygon)\n",
    "     \n",
    "    \"\"\"\n",
    "    Section required to calculate offsets and to generate hexagon geometry\n",
    "    \"\"\"\n",
    "    \n",
    "    def _deg2rad(self, angle):\n",
    "        return angle*self.pi/180\n",
    "\n",
    "\n",
    "    def _rad2deg(self, angle):\n",
    "        return angle*180/self.pi\n",
    "\n",
    "\n",
    "    def _pointRadialDistance(self,lon1, lat1, bearing, distance):\n",
    "        \"\"\"\n",
    "        Return final coordinates (lat2,lon2) [in degrees] given initial coordinates\n",
    "        (lat1,lon1) [in degrees] and a bearing [in degrees] and distance [in km]\n",
    "        \"\"\"\n",
    "        rlat1 = self._deg2rad(lat1)\n",
    "        rlon1 = self._deg2rad(lon1)\n",
    "        rbearing = self._deg2rad(bearing)\n",
    "        rdistance = distance / self.rEarth # normalize linear distance to radian angle\n",
    "\n",
    "        rlat = math.asin( math.sin(rlat1) * math.cos(rdistance) + \n",
    "                         math.cos(rlat1) * math.sin(rdistance) * math.cos(rbearing) )\n",
    "\n",
    "        if math.cos(rlat) == 0 or abs(math.cos(rlat)) < self.epsilon: # Endpoint a pole\n",
    "            rlon=rlon1\n",
    "        else:\n",
    "            rlon = ( (rlon1 - math.asin( math.sin(rbearing)* math.sin(rdistance) \n",
    "                                        / math.cos(rlat) ) + self.pi ) % (2 * self.pi) ) - self.pi\n",
    "\n",
    "        lat = self._rad2deg(rlat)\n",
    "        lon = self._rad2deg(rlon)\n",
    "        return [lon, lat]\n",
    "    \n",
    "    \"\"\"\n",
    "    Validation Section\n",
    "    \"\"\"\n",
    "    # Validate Boundaries input\n",
    "    def _validateBoundaries(self):\n",
    "        if (type(self.boundaries) == list):\n",
    "            if (len(self.boundaries) == 4):\n",
    "                for bound in self.boundaries:\n",
    "                    if isinstance(bound, (int, float)) == False:\n",
    "                        self.error = \"Boundaries contains non-numbers\"\n",
    "                        self._reportError()\n",
    "                        return False\n",
    "                return True\n",
    "            else:\n",
    "                self.error = \"Boundaries requires 4 variables\"\n",
    "                self._reportError()\n",
    "                return False\n",
    "        else:\n",
    "            self.error = \"Boundaries is not a list\"\n",
    "            self._reportError()\n",
    "            return False\n",
    "    \n",
    "    # Validate that radius is number\n",
    "    def _validateRadius(self):\n",
    "        if isinstance(self.radius, (int, float)) == False:\n",
    "            self.error = \"Radius contains non-numbers\"\n",
    "            self._reportError()\n",
    "            return False\n",
    "        return True\n",
    "    \n",
    "    # Validate that Radius Units is specified correctly \n",
    "    def _validateUnits(self):\n",
    "        if self.units in [\"kilometers\"]:\n",
    "            return True\n",
    "        self.error = \"Radius Units must be kilometers\"\n",
    "        self._reportError()\n",
    "        return False\n",
    "            \n",
    "    # Issue Error Message\n",
    "    def _reportError(self):\n",
    "        print(self.error)\n",
    "    \n",
    "    \"\"\"\n",
    "    Output Section\n",
    "    \"\"\"\n",
    "    # Return GeoJson Results on request as Text\n",
    "    def sendGeoJsonText(self):\n",
    "        return json.dumps(self._hexgridjson)\n",
    "    \n",
    "    # Return GeoJson Results on request as Dictionary\n",
    "    def sendGeoJsonDictionary(self):\n",
    "        return self._hexgridjson"
   ]
  },
  {
   "cell_type": "code",
   "execution_count": 6,
   "metadata": {},
   "outputs": [],
   "source": [
    "hexgrid = Hexbuild(parcel_bounds, 0.015, \"kilometers\")\n",
    "geojson = hexgrid.sendGeoJsonDictionary()\n",
    "# print(geojson)\n",
    "\n",
    "# geofile = open(r\"c:\\temp\\testhex.json\", \"w\")\n",
    "# geofile.write(hexgrid.sendGeoJsonText())\n",
    "# geofile.close()\n"
   ]
  },
  {
   "cell_type": "code",
   "execution_count": 7,
   "metadata": {},
   "outputs": [],
   "source": [
    "# Working with GeoPandas\n",
    "ParcelDF = gdp.read_file(json.dumps(parcelGeoJson))\n",
    "HexDF = gdp.read_file(hexgrid.sendGeoJsonText())"
   ]
  },
  {
   "cell_type": "code",
   "execution_count": 8,
   "metadata": {},
   "outputs": [],
   "source": [
    "# Intersect Clip\n",
    "IntHexDF = gdp.overlay(HexDF, ParcelDF, how='intersection')\n",
    "# IntHexDF.head()"
   ]
  },
  {
   "cell_type": "code",
   "execution_count": 12,
   "metadata": {},
   "outputs": [
    {
     "data": {
      "text/plain": [
       "<matplotlib.axes._subplots.AxesSubplot at 0x22862f5a108>"
      ]
     },
     "execution_count": 12,
     "metadata": {},
     "output_type": "execute_result"
    },
    {
     "data": {
      "image/png": "[encoded data removed]",
      "text/plain": [
       "<Figure size 432x288 with 1 Axes>"
      ]
     },
     "metadata": {
      "needs_background": "light"
     },
     "output_type": "display_data"
    }
   ],
   "source": [
    "ParcelDF.plot()"
   ]
  },
  {
   "cell_type": "code",
   "execution_count": 10,
   "metadata": {},
   "outputs": [
    {
     "data": {
      "text/plain": [
       "<matplotlib.axes._subplots.AxesSubplot at 0x22862e37548>"
      ]
     },
     "execution_count": 10,
     "metadata": {},
     "output_type": "execute_result"
    },
    {
     "data": {
      "image/png": "[encoded data removed]",
      "text/plain": [
       "<Figure size 432x288 with 1 Axes>"
      ]
     },
     "metadata": {
      "needs_background": "light"
     },
     "output_type": "display_data"
    }
   ],
   "source": [
    "HexDF.plot()"
   ]
  },
  {
   "cell_type": "code",
   "execution_count": 11,
   "metadata": {},
   "outputs": [
    {
     "data": {
      "text/plain": [
       "<matplotlib.axes._subplots.AxesSubplot at 0x22862ecf7c8>"
      ]
     },
     "execution_count": 11,
     "metadata": {},
     "output_type": "execute_result"
    },
    {
     "data": {
      "image/png": "[encoded data removed]",
      "text/plain": [
       "<Figure size 432x288 with 1 Axes>"
      ]
     },
     "metadata": {
      "needs_background": "light"
     },
     "output_type": "display_data"
    }
   ],
   "source": [
    "IntHexDF.plot()"
   ]
  },
  {
   "cell_type": "code",
   "execution_count": 14,
   "metadata": {},
   "outputs": [],
   "source": [
    "IntHexDF.to_file(r\"c:\\temp\\testhex.json\", driver='GeoJSON')"
   ]
  },
  {
   "cell_type": "code",
   "execution_count": null,
   "metadata": {},
   "outputs": [],
   "source": []
  }
 ],
 "metadata": {
  "kernelspec": {
   "display_name": "Python 3",
   "language": "python",
   "name": "python3"
  },
  "language_info": {
   "codemirror_mode": {
    "name": "ipython",
    "version": 3
   },
   "file_extension": ".py",
   "mimetype": "text/x-python",
   "name": "python",
   "nbconvert_exporter": "python",
   "pygments_lexer": "ipython3",
   "version": "3.7.4"
  }
 },
 "nbformat": 4,
 "nbformat_minor": 2
}
